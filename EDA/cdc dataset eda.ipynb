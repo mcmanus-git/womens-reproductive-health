{
 "cells": [
  {
   "cell_type": "markdown",
   "source": [
    "Dataset from [cdc.gov](https://www.cdc.gov/reproductivehealth/data_stats/abortion.htm)"
   ],
   "metadata": {
    "collapsed": false,
    "pycharm": {
     "name": "#%% md\n"
    }
   }
  },
  {
   "cell_type": "markdown",
   "source": [
    "State of Service are the index (first column) and State of Mother's residence are the columns"
   ],
   "metadata": {
    "collapsed": false,
    "pycharm": {
     "name": "#%% md\n"
    }
   }
  },
  {
   "cell_type": "code",
   "execution_count": 89,
   "outputs": [],
   "source": [
    "import numpy as np\n",
    "import pandas as pd\n",
    "import os"
   ],
   "metadata": {
    "collapsed": false,
    "pycharm": {
     "name": "#%%\n"
    }
   }
  },
  {
   "cell_type": "code",
   "execution_count": 90,
   "outputs": [],
   "source": [
    "def long_format_df(raw_df, year_of_data):\n",
    "    raw_df = raw_df.iloc[0:53, 1:-1]\n",
    "    raw_df.columns = list(raw_df[0:1].values)\n",
    "    raw_df = raw_df.drop(0, axis=0)\n",
    "    raw_df.columns = [col[0] for col in raw_df.columns]\n",
    "\n",
    "    if 'State' in raw_df.columns:\n",
    "        raw_df = raw_df.melt('State')\n",
    "        raw_df.rename({'State': 'state_area_of_service', 'variable': 'state_area_of_mothers_residence', 'value': year_of_data}, axis=1, inplace=True)\n",
    "    elif 'State/Area' in raw_df.columns:\n",
    "        raw_df = raw_df.melt('State/Area')\n",
    "        raw_df.rename({'State/Area': 'state_area_of_service', 'variable': 'state_area_of_mothers_residence', 'value': year_of_data}, axis=1, inplace=True)\n",
    "\n",
    "    return raw_df"
   ],
   "metadata": {
    "collapsed": false,
    "pycharm": {
     "name": "#%%\n"
    }
   }
  },
  {
   "cell_type": "code",
   "execution_count": 171,
   "outputs": [],
   "source": [
    "def create_dataset(filepath):\n",
    "    for i, file in enumerate(os.listdir(filepath)):\n",
    "        yr = file[-8:-4]\n",
    "        if i == 0:\n",
    "            df = long_format_df(pd.read_csv(f'{filepath}{file}'), yr)\n",
    "        else:\n",
    "            df = df.merge(long_format_df(pd.read_csv(f'../data/cdc/{file}'), yr), on=['state_area_of_service', 'state_area_of_mothers_residence'])\n",
    "\n",
    "        # Strip white space and ',' from numbers for conversion from str to float\n",
    "        # Replace '--' which is equivalent to NaN in the dataset\n",
    "        # Replace '**' which only occurs once in the dataset in 2012 for Washington/N Carolina combination\n",
    "        df[yr] = df[yr].str.strip().str.replace(',', '').replace('--', np.nan).replace('**', np.nan).astype('float64')\n",
    "\n",
    "\n",
    "    return df"
   ],
   "metadata": {
    "collapsed": false,
    "pycharm": {
     "name": "#%%\n"
    }
   }
  },
  {
   "cell_type": "code",
   "execution_count": 172,
   "outputs": [
    {
     "data": {
      "text/plain": "     state_area_of_service         state_area_of_mothers_residence    2016  \\\n0                  Alabama                                 Alabama  5525.0   \n1                   Alaska                                 Alabama     0.0   \n2                  Arizona                                 Alabama     0.0   \n3                 Arkansas                                 Alabama     0.0   \n4             California**                                 Alabama     NaN   \n...                    ...                                     ...     ...   \n2491              Virginia  Out-of-state (exact residence unknown)     NaN   \n2492            Washington  Out-of-state (exact residence unknown)     NaN   \n2493         West Virginia  Out-of-state (exact residence unknown)     0.0   \n2494             Wisconsin  Out-of-state (exact residence unknown)     NaN   \n2495               Wyoming  Out-of-state (exact residence unknown)     0.0   \n\n        2017    2014    2010    2011    2013    2012    2015    2019    2018  \n0     5223.0  6650.0  8587.0  7989.0  6997.0  7464.0  5124.0  4969.0  5455.0  \n1        0.0     0.0     0.0     0.0     0.0     0.0     0.0     0.0     0.0  \n2        0.0     0.0     0.0     NaN     NaN     0.0     0.0     0.0     0.0  \n3        0.0     0.0     NaN     0.0     0.0     0.0     0.0     NaN     0.0  \n4        NaN     NaN     NaN     NaN     NaN     NaN     NaN     NaN     NaN  \n...      ...     ...     ...     ...     ...     ...     ...     ...     ...  \n2491     0.0     0.0     0.0     0.0     0.0     0.0     0.0     NaN     0.0  \n2492     NaN     NaN     0.0     0.0     0.0     NaN     0.0     0.0     0.0  \n2493     0.0     0.0     0.0     0.0     0.0     0.0     0.0     0.0     0.0  \n2494     NaN     NaN     NaN     NaN     NaN     NaN     NaN     NaN     NaN  \n2495     NaN     0.0     0.0     0.0     0.0     0.0     0.0     0.0     NaN  \n\n[2496 rows x 12 columns]",
      "text/html": "<div>\n<style scoped>\n    .dataframe tbody tr th:only-of-type {\n        vertical-align: middle;\n    }\n\n    .dataframe tbody tr th {\n        vertical-align: top;\n    }\n\n    .dataframe thead th {\n        text-align: right;\n    }\n</style>\n<table border=\"1\" class=\"dataframe\">\n  <thead>\n    <tr style=\"text-align: right;\">\n      <th></th>\n      <th>state_area_of_service</th>\n      <th>state_area_of_mothers_residence</th>\n      <th>2016</th>\n      <th>2017</th>\n      <th>2014</th>\n      <th>2010</th>\n      <th>2011</th>\n      <th>2013</th>\n      <th>2012</th>\n      <th>2015</th>\n      <th>2019</th>\n      <th>2018</th>\n    </tr>\n  </thead>\n  <tbody>\n    <tr>\n      <th>0</th>\n      <td>Alabama</td>\n      <td>Alabama</td>\n      <td>5525.0</td>\n      <td>5223.0</td>\n      <td>6650.0</td>\n      <td>8587.0</td>\n      <td>7989.0</td>\n      <td>6997.0</td>\n      <td>7464.0</td>\n      <td>5124.0</td>\n      <td>4969.0</td>\n      <td>5455.0</td>\n    </tr>\n    <tr>\n      <th>1</th>\n      <td>Alaska</td>\n      <td>Alabama</td>\n      <td>0.0</td>\n      <td>0.0</td>\n      <td>0.0</td>\n      <td>0.0</td>\n      <td>0.0</td>\n      <td>0.0</td>\n      <td>0.0</td>\n      <td>0.0</td>\n      <td>0.0</td>\n      <td>0.0</td>\n    </tr>\n    <tr>\n      <th>2</th>\n      <td>Arizona</td>\n      <td>Alabama</td>\n      <td>0.0</td>\n      <td>0.0</td>\n      <td>0.0</td>\n      <td>0.0</td>\n      <td>NaN</td>\n      <td>NaN</td>\n      <td>0.0</td>\n      <td>0.0</td>\n      <td>0.0</td>\n      <td>0.0</td>\n    </tr>\n    <tr>\n      <th>3</th>\n      <td>Arkansas</td>\n      <td>Alabama</td>\n      <td>0.0</td>\n      <td>0.0</td>\n      <td>0.0</td>\n      <td>NaN</td>\n      <td>0.0</td>\n      <td>0.0</td>\n      <td>0.0</td>\n      <td>0.0</td>\n      <td>NaN</td>\n      <td>0.0</td>\n    </tr>\n    <tr>\n      <th>4</th>\n      <td>California**</td>\n      <td>Alabama</td>\n      <td>NaN</td>\n      <td>NaN</td>\n      <td>NaN</td>\n      <td>NaN</td>\n      <td>NaN</td>\n      <td>NaN</td>\n      <td>NaN</td>\n      <td>NaN</td>\n      <td>NaN</td>\n      <td>NaN</td>\n    </tr>\n    <tr>\n      <th>...</th>\n      <td>...</td>\n      <td>...</td>\n      <td>...</td>\n      <td>...</td>\n      <td>...</td>\n      <td>...</td>\n      <td>...</td>\n      <td>...</td>\n      <td>...</td>\n      <td>...</td>\n      <td>...</td>\n      <td>...</td>\n    </tr>\n    <tr>\n      <th>2491</th>\n      <td>Virginia</td>\n      <td>Out-of-state (exact residence unknown)</td>\n      <td>NaN</td>\n      <td>0.0</td>\n      <td>0.0</td>\n      <td>0.0</td>\n      <td>0.0</td>\n      <td>0.0</td>\n      <td>0.0</td>\n      <td>0.0</td>\n      <td>NaN</td>\n      <td>0.0</td>\n    </tr>\n    <tr>\n      <th>2492</th>\n      <td>Washington</td>\n      <td>Out-of-state (exact residence unknown)</td>\n      <td>NaN</td>\n      <td>NaN</td>\n      <td>NaN</td>\n      <td>0.0</td>\n      <td>0.0</td>\n      <td>0.0</td>\n      <td>NaN</td>\n      <td>0.0</td>\n      <td>0.0</td>\n      <td>0.0</td>\n    </tr>\n    <tr>\n      <th>2493</th>\n      <td>West Virginia</td>\n      <td>Out-of-state (exact residence unknown)</td>\n      <td>0.0</td>\n      <td>0.0</td>\n      <td>0.0</td>\n      <td>0.0</td>\n      <td>0.0</td>\n      <td>0.0</td>\n      <td>0.0</td>\n      <td>0.0</td>\n      <td>0.0</td>\n      <td>0.0</td>\n    </tr>\n    <tr>\n      <th>2494</th>\n      <td>Wisconsin</td>\n      <td>Out-of-state (exact residence unknown)</td>\n      <td>NaN</td>\n      <td>NaN</td>\n      <td>NaN</td>\n      <td>NaN</td>\n      <td>NaN</td>\n      <td>NaN</td>\n      <td>NaN</td>\n      <td>NaN</td>\n      <td>NaN</td>\n      <td>NaN</td>\n    </tr>\n    <tr>\n      <th>2495</th>\n      <td>Wyoming</td>\n      <td>Out-of-state (exact residence unknown)</td>\n      <td>0.0</td>\n      <td>NaN</td>\n      <td>0.0</td>\n      <td>0.0</td>\n      <td>0.0</td>\n      <td>0.0</td>\n      <td>0.0</td>\n      <td>0.0</td>\n      <td>0.0</td>\n      <td>NaN</td>\n    </tr>\n  </tbody>\n</table>\n<p>2496 rows × 12 columns</p>\n</div>"
     },
     "execution_count": 172,
     "metadata": {},
     "output_type": "execute_result"
    }
   ],
   "source": [
    "df = create_dataset('../data/cdc/')\n",
    "df"
   ],
   "metadata": {
    "collapsed": false,
    "pycharm": {
     "name": "#%%\n"
    }
   }
  },
  {
   "cell_type": "code",
   "execution_count": 174,
   "outputs": [],
   "source": [
    "df.to_pickle('../data/cdc_2010-2019.pkl')"
   ],
   "metadata": {
    "collapsed": false,
    "pycharm": {
     "name": "#%%\n"
    }
   }
  },
  {
   "cell_type": "code",
   "execution_count": null,
   "outputs": [],
   "source": [],
   "metadata": {
    "collapsed": false,
    "pycharm": {
     "name": "#%%\n"
    }
   }
  }
 ],
 "metadata": {
  "kernelspec": {
   "display_name": "Python 3",
   "language": "python",
   "name": "python3"
  },
  "language_info": {
   "codemirror_mode": {
    "name": "ipython",
    "version": 2
   },
   "file_extension": ".py",
   "mimetype": "text/x-python",
   "name": "python",
   "nbconvert_exporter": "python",
   "pygments_lexer": "ipython2",
   "version": "2.7.6"
  }
 },
 "nbformat": 4,
 "nbformat_minor": 0
}