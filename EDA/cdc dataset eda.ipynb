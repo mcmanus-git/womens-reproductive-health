{
 "cells": [
  {
   "cell_type": "markdown",
   "source": [
    "Original Dataset From: Dataset from [cdc.gov](https://www.cdc.gov/reproductivehealth/data_stats/abortion.htm)\n",
    "Cleaned and Combined Dataset In: `Data Cleaning/cdc dataset cleaning and aggregation.ipynb`"
   ],
   "metadata": {
    "collapsed": false,
    "pycharm": {
     "name": "#%% md\n"
    }
   }
  },
  {
   "cell_type": "code",
   "execution_count": 175,
   "outputs": [],
   "source": [
    "import pandas as pd"
   ],
   "metadata": {
    "collapsed": false,
    "pycharm": {
     "name": "#%%\n"
    }
   }
  },
  {
   "cell_type": "code",
   "execution_count": 186,
   "outputs": [
    {
     "data": {
      "text/plain": "     state_area_of_service         state_area_of_mothers_residence    2010  \\\n0                  Alabama                                 Alabama  8587.0   \n1                   Alaska                                 Alabama     0.0   \n2                  Arizona                                 Alabama     0.0   \n3                 Arkansas                                 Alabama     NaN   \n4             California**                                 Alabama     NaN   \n...                    ...                                     ...     ...   \n2491              Virginia  Out-of-state (exact residence unknown)     0.0   \n2492            Washington  Out-of-state (exact residence unknown)     0.0   \n2493         West Virginia  Out-of-state (exact residence unknown)     0.0   \n2494             Wisconsin  Out-of-state (exact residence unknown)     NaN   \n2495               Wyoming  Out-of-state (exact residence unknown)     0.0   \n\n        2011    2012    2013    2014    2015    2016    2017    2018    2019  \n0     7989.0  7464.0  6997.0  6650.0  5124.0  5525.0  5223.0  5455.0  4969.0  \n1        0.0     0.0     0.0     0.0     0.0     0.0     0.0     0.0     0.0  \n2        NaN     0.0     NaN     0.0     0.0     0.0     0.0     0.0     0.0  \n3        0.0     0.0     0.0     0.0     0.0     0.0     0.0     0.0     NaN  \n4        NaN     NaN     NaN     NaN     NaN     NaN     NaN     NaN     NaN  \n...      ...     ...     ...     ...     ...     ...     ...     ...     ...  \n2491     0.0     0.0     0.0     0.0     0.0     NaN     0.0     0.0     NaN  \n2492     0.0     NaN     0.0     NaN     0.0     NaN     NaN     0.0     0.0  \n2493     0.0     0.0     0.0     0.0     0.0     0.0     0.0     0.0     0.0  \n2494     NaN     NaN     NaN     NaN     NaN     NaN     NaN     NaN     NaN  \n2495     0.0     0.0     0.0     0.0     0.0     0.0     NaN     NaN     0.0  \n\n[2496 rows x 12 columns]",
      "text/html": "<div>\n<style scoped>\n    .dataframe tbody tr th:only-of-type {\n        vertical-align: middle;\n    }\n\n    .dataframe tbody tr th {\n        vertical-align: top;\n    }\n\n    .dataframe thead th {\n        text-align: right;\n    }\n</style>\n<table border=\"1\" class=\"dataframe\">\n  <thead>\n    <tr style=\"text-align: right;\">\n      <th></th>\n      <th>state_area_of_service</th>\n      <th>state_area_of_mothers_residence</th>\n      <th>2010</th>\n      <th>2011</th>\n      <th>2012</th>\n      <th>2013</th>\n      <th>2014</th>\n      <th>2015</th>\n      <th>2016</th>\n      <th>2017</th>\n      <th>2018</th>\n      <th>2019</th>\n    </tr>\n  </thead>\n  <tbody>\n    <tr>\n      <th>0</th>\n      <td>Alabama</td>\n      <td>Alabama</td>\n      <td>8587.0</td>\n      <td>7989.0</td>\n      <td>7464.0</td>\n      <td>6997.0</td>\n      <td>6650.0</td>\n      <td>5124.0</td>\n      <td>5525.0</td>\n      <td>5223.0</td>\n      <td>5455.0</td>\n      <td>4969.0</td>\n    </tr>\n    <tr>\n      <th>1</th>\n      <td>Alaska</td>\n      <td>Alabama</td>\n      <td>0.0</td>\n      <td>0.0</td>\n      <td>0.0</td>\n      <td>0.0</td>\n      <td>0.0</td>\n      <td>0.0</td>\n      <td>0.0</td>\n      <td>0.0</td>\n      <td>0.0</td>\n      <td>0.0</td>\n    </tr>\n    <tr>\n      <th>2</th>\n      <td>Arizona</td>\n      <td>Alabama</td>\n      <td>0.0</td>\n      <td>NaN</td>\n      <td>0.0</td>\n      <td>NaN</td>\n      <td>0.0</td>\n      <td>0.0</td>\n      <td>0.0</td>\n      <td>0.0</td>\n      <td>0.0</td>\n      <td>0.0</td>\n    </tr>\n    <tr>\n      <th>3</th>\n      <td>Arkansas</td>\n      <td>Alabama</td>\n      <td>NaN</td>\n      <td>0.0</td>\n      <td>0.0</td>\n      <td>0.0</td>\n      <td>0.0</td>\n      <td>0.0</td>\n      <td>0.0</td>\n      <td>0.0</td>\n      <td>0.0</td>\n      <td>NaN</td>\n    </tr>\n    <tr>\n      <th>4</th>\n      <td>California**</td>\n      <td>Alabama</td>\n      <td>NaN</td>\n      <td>NaN</td>\n      <td>NaN</td>\n      <td>NaN</td>\n      <td>NaN</td>\n      <td>NaN</td>\n      <td>NaN</td>\n      <td>NaN</td>\n      <td>NaN</td>\n      <td>NaN</td>\n    </tr>\n    <tr>\n      <th>...</th>\n      <td>...</td>\n      <td>...</td>\n      <td>...</td>\n      <td>...</td>\n      <td>...</td>\n      <td>...</td>\n      <td>...</td>\n      <td>...</td>\n      <td>...</td>\n      <td>...</td>\n      <td>...</td>\n      <td>...</td>\n    </tr>\n    <tr>\n      <th>2491</th>\n      <td>Virginia</td>\n      <td>Out-of-state (exact residence unknown)</td>\n      <td>0.0</td>\n      <td>0.0</td>\n      <td>0.0</td>\n      <td>0.0</td>\n      <td>0.0</td>\n      <td>0.0</td>\n      <td>NaN</td>\n      <td>0.0</td>\n      <td>0.0</td>\n      <td>NaN</td>\n    </tr>\n    <tr>\n      <th>2492</th>\n      <td>Washington</td>\n      <td>Out-of-state (exact residence unknown)</td>\n      <td>0.0</td>\n      <td>0.0</td>\n      <td>NaN</td>\n      <td>0.0</td>\n      <td>NaN</td>\n      <td>0.0</td>\n      <td>NaN</td>\n      <td>NaN</td>\n      <td>0.0</td>\n      <td>0.0</td>\n    </tr>\n    <tr>\n      <th>2493</th>\n      <td>West Virginia</td>\n      <td>Out-of-state (exact residence unknown)</td>\n      <td>0.0</td>\n      <td>0.0</td>\n      <td>0.0</td>\n      <td>0.0</td>\n      <td>0.0</td>\n      <td>0.0</td>\n      <td>0.0</td>\n      <td>0.0</td>\n      <td>0.0</td>\n      <td>0.0</td>\n    </tr>\n    <tr>\n      <th>2494</th>\n      <td>Wisconsin</td>\n      <td>Out-of-state (exact residence unknown)</td>\n      <td>NaN</td>\n      <td>NaN</td>\n      <td>NaN</td>\n      <td>NaN</td>\n      <td>NaN</td>\n      <td>NaN</td>\n      <td>NaN</td>\n      <td>NaN</td>\n      <td>NaN</td>\n      <td>NaN</td>\n    </tr>\n    <tr>\n      <th>2495</th>\n      <td>Wyoming</td>\n      <td>Out-of-state (exact residence unknown)</td>\n      <td>0.0</td>\n      <td>0.0</td>\n      <td>0.0</td>\n      <td>0.0</td>\n      <td>0.0</td>\n      <td>0.0</td>\n      <td>0.0</td>\n      <td>NaN</td>\n      <td>NaN</td>\n      <td>0.0</td>\n    </tr>\n  </tbody>\n</table>\n<p>2496 rows × 12 columns</p>\n</div>"
     },
     "execution_count": 186,
     "metadata": {},
     "output_type": "execute_result"
    }
   ],
   "source": [
    "df = pd.read_pickle('../data/cdc_2010-2019.pkl')\n",
    "df"
   ],
   "metadata": {
    "collapsed": false,
    "pycharm": {
     "name": "#%%\n"
    }
   }
  },
  {
   "cell_type": "code",
   "execution_count": null,
   "outputs": [],
   "source": [],
   "metadata": {
    "collapsed": false,
    "pycharm": {
     "name": "#%%\n"
    }
   }
  }
 ],
 "metadata": {
  "kernelspec": {
   "display_name": "Python 3",
   "language": "python",
   "name": "python3"
  },
  "language_info": {
   "codemirror_mode": {
    "name": "ipython",
    "version": 2
   },
   "file_extension": ".py",
   "mimetype": "text/x-python",
   "name": "python",
   "nbconvert_exporter": "python",
   "pygments_lexer": "ipython2",
   "version": "2.7.6"
  }
 },
 "nbformat": 4,
 "nbformat_minor": 0
}