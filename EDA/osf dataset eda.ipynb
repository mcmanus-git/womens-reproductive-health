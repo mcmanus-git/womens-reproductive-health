{
 "cells": [
  {
   "cell_type": "code",
   "execution_count": 1,
   "outputs": [],
   "source": [
    "import pandas as pd"
   ],
   "metadata": {
    "collapsed": false,
    "pycharm": {
     "name": "#%%\n"
    }
   }
  },
  {
   "cell_type": "code",
   "execution_count": 4,
   "outputs": [
    {
     "data": {
      "text/plain": "                country  iso  yearstart  yearend                       region  \\\n0               Albania  8.0       1990     1990  Europe and Northern America   \n1               Albania  8.0       1991     1991  Europe and Northern America   \n2               Albania  8.0       1992     1992  Europe and Northern America   \n3               Albania  8.0       1993     1993  Europe and Northern America   \n4               Albania  8.0       1994     1994  Europe and Northern America   \n...                 ...  ...        ...      ...                          ...   \n3335           Scotland  NaN       2015     2015  Europe and Northern America   \n3336           Scotland  NaN       2016     2016  Europe and Northern America   \n3337  England and Wales  NaN       2016     2016  Europe and Northern America   \n3338           Scotland  NaN       2017     2017  Europe and Northern America   \n3339  England and Wales  NaN       2017     2017  Europe and Northern America   \n\n            subregion  numberofabortions  abortionrate  perc_p_ending_in_a  \\\n0     Southern Europe            17400.0           NaN                 NaN   \n1     Southern Europe            20300.0           NaN                 NaN   \n2     Southern Europe            18700.0           NaN                 NaN   \n3     Southern Europe            25100.0           NaN                 NaN   \n4     Southern Europe            31622.0           NaN                 NaN   \n...               ...                ...           ...                 ...   \n3335  Northern Europe            12118.0           NaN                 NaN   \n3336  Northern Europe            12100.0           NaN                 NaN   \n3337  Northern Europe           185596.0           NaN                 NaN   \n3338  Northern Europe            12196.0           NaN                 NaN   \n3339  Northern Europe           189859.0           NaN                 NaN   \n\n     spontaneous             datatype                              datasource  \\\n0             No  Official Statistics                            Henshaw 2001   \n1             No  Official Statistics                            Henshaw 2001   \n2             No  Official Statistics                            Henshaw 2001   \n3             No  Official Statistics                            Henshaw 2001   \n4            Yes  Official Statistics                                    UNSD   \n...          ...                  ...                                     ...   \n3335          No  Official Statistics  Information Services Division Scotland   \n3336          No  Official Statistics  Information Services Division Scotland   \n3337          No  Official Statistics    Department of Health and Social Care   \n3338          No  Official Statistics  Information Services Division Scotland   \n3339          No  Official Statistics    Department of Health and Social Care   \n\n        complete         classification modelused marriedonly notes  \n0     Incomplete  Below survey of women       Yes         NaN   NaN  \n1     Incomplete  Below survey of women       Yes         NaN   NaN  \n2     Incomplete  Below survey of women       Yes         NaN   NaN  \n3     Incomplete  Below survey of women       Yes         NaN   NaN  \n4     Incomplete  Below survey of women       Yes         NaN   NaN  \n...          ...                    ...       ...         ...   ...  \n3335    Complete                    NaN       Yes         NaN   NaN  \n3336    Complete                    NaN       Yes         NaN   NaN  \n3337    Complete                    NaN       Yes         NaN   NaN  \n3338    Complete                    NaN       Yes         NaN   NaN  \n3339    Complete                    NaN       Yes         NaN   NaN  \n\n[3340 rows x 17 columns]",
      "text/html": "<div>\n<style scoped>\n    .dataframe tbody tr th:only-of-type {\n        vertical-align: middle;\n    }\n\n    .dataframe tbody tr th {\n        vertical-align: top;\n    }\n\n    .dataframe thead th {\n        text-align: right;\n    }\n</style>\n<table border=\"1\" class=\"dataframe\">\n  <thead>\n    <tr style=\"text-align: right;\">\n      <th></th>\n      <th>country</th>\n      <th>iso</th>\n      <th>yearstart</th>\n      <th>yearend</th>\n      <th>region</th>\n      <th>subregion</th>\n      <th>numberofabortions</th>\n      <th>abortionrate</th>\n      <th>perc_p_ending_in_a</th>\n      <th>spontaneous</th>\n      <th>datatype</th>\n      <th>datasource</th>\n      <th>complete</th>\n      <th>classification</th>\n      <th>modelused</th>\n      <th>marriedonly</th>\n      <th>notes</th>\n    </tr>\n  </thead>\n  <tbody>\n    <tr>\n      <th>0</th>\n      <td>Albania</td>\n      <td>8.0</td>\n      <td>1990</td>\n      <td>1990</td>\n      <td>Europe and Northern America</td>\n      <td>Southern Europe</td>\n      <td>17400.0</td>\n      <td>NaN</td>\n      <td>NaN</td>\n      <td>No</td>\n      <td>Official Statistics</td>\n      <td>Henshaw 2001</td>\n      <td>Incomplete</td>\n      <td>Below survey of women</td>\n      <td>Yes</td>\n      <td>NaN</td>\n      <td>NaN</td>\n    </tr>\n    <tr>\n      <th>1</th>\n      <td>Albania</td>\n      <td>8.0</td>\n      <td>1991</td>\n      <td>1991</td>\n      <td>Europe and Northern America</td>\n      <td>Southern Europe</td>\n      <td>20300.0</td>\n      <td>NaN</td>\n      <td>NaN</td>\n      <td>No</td>\n      <td>Official Statistics</td>\n      <td>Henshaw 2001</td>\n      <td>Incomplete</td>\n      <td>Below survey of women</td>\n      <td>Yes</td>\n      <td>NaN</td>\n      <td>NaN</td>\n    </tr>\n    <tr>\n      <th>2</th>\n      <td>Albania</td>\n      <td>8.0</td>\n      <td>1992</td>\n      <td>1992</td>\n      <td>Europe and Northern America</td>\n      <td>Southern Europe</td>\n      <td>18700.0</td>\n      <td>NaN</td>\n      <td>NaN</td>\n      <td>No</td>\n      <td>Official Statistics</td>\n      <td>Henshaw 2001</td>\n      <td>Incomplete</td>\n      <td>Below survey of women</td>\n      <td>Yes</td>\n      <td>NaN</td>\n      <td>NaN</td>\n    </tr>\n    <tr>\n      <th>3</th>\n      <td>Albania</td>\n      <td>8.0</td>\n      <td>1993</td>\n      <td>1993</td>\n      <td>Europe and Northern America</td>\n      <td>Southern Europe</td>\n      <td>25100.0</td>\n      <td>NaN</td>\n      <td>NaN</td>\n      <td>No</td>\n      <td>Official Statistics</td>\n      <td>Henshaw 2001</td>\n      <td>Incomplete</td>\n      <td>Below survey of women</td>\n      <td>Yes</td>\n      <td>NaN</td>\n      <td>NaN</td>\n    </tr>\n    <tr>\n      <th>4</th>\n      <td>Albania</td>\n      <td>8.0</td>\n      <td>1994</td>\n      <td>1994</td>\n      <td>Europe and Northern America</td>\n      <td>Southern Europe</td>\n      <td>31622.0</td>\n      <td>NaN</td>\n      <td>NaN</td>\n      <td>Yes</td>\n      <td>Official Statistics</td>\n      <td>UNSD</td>\n      <td>Incomplete</td>\n      <td>Below survey of women</td>\n      <td>Yes</td>\n      <td>NaN</td>\n      <td>NaN</td>\n    </tr>\n    <tr>\n      <th>...</th>\n      <td>...</td>\n      <td>...</td>\n      <td>...</td>\n      <td>...</td>\n      <td>...</td>\n      <td>...</td>\n      <td>...</td>\n      <td>...</td>\n      <td>...</td>\n      <td>...</td>\n      <td>...</td>\n      <td>...</td>\n      <td>...</td>\n      <td>...</td>\n      <td>...</td>\n      <td>...</td>\n      <td>...</td>\n    </tr>\n    <tr>\n      <th>3335</th>\n      <td>Scotland</td>\n      <td>NaN</td>\n      <td>2015</td>\n      <td>2015</td>\n      <td>Europe and Northern America</td>\n      <td>Northern Europe</td>\n      <td>12118.0</td>\n      <td>NaN</td>\n      <td>NaN</td>\n      <td>No</td>\n      <td>Official Statistics</td>\n      <td>Information Services Division Scotland</td>\n      <td>Complete</td>\n      <td>NaN</td>\n      <td>Yes</td>\n      <td>NaN</td>\n      <td>NaN</td>\n    </tr>\n    <tr>\n      <th>3336</th>\n      <td>Scotland</td>\n      <td>NaN</td>\n      <td>2016</td>\n      <td>2016</td>\n      <td>Europe and Northern America</td>\n      <td>Northern Europe</td>\n      <td>12100.0</td>\n      <td>NaN</td>\n      <td>NaN</td>\n      <td>No</td>\n      <td>Official Statistics</td>\n      <td>Information Services Division Scotland</td>\n      <td>Complete</td>\n      <td>NaN</td>\n      <td>Yes</td>\n      <td>NaN</td>\n      <td>NaN</td>\n    </tr>\n    <tr>\n      <th>3337</th>\n      <td>England and Wales</td>\n      <td>NaN</td>\n      <td>2016</td>\n      <td>2016</td>\n      <td>Europe and Northern America</td>\n      <td>Northern Europe</td>\n      <td>185596.0</td>\n      <td>NaN</td>\n      <td>NaN</td>\n      <td>No</td>\n      <td>Official Statistics</td>\n      <td>Department of Health and Social Care</td>\n      <td>Complete</td>\n      <td>NaN</td>\n      <td>Yes</td>\n      <td>NaN</td>\n      <td>NaN</td>\n    </tr>\n    <tr>\n      <th>3338</th>\n      <td>Scotland</td>\n      <td>NaN</td>\n      <td>2017</td>\n      <td>2017</td>\n      <td>Europe and Northern America</td>\n      <td>Northern Europe</td>\n      <td>12196.0</td>\n      <td>NaN</td>\n      <td>NaN</td>\n      <td>No</td>\n      <td>Official Statistics</td>\n      <td>Information Services Division Scotland</td>\n      <td>Complete</td>\n      <td>NaN</td>\n      <td>Yes</td>\n      <td>NaN</td>\n      <td>NaN</td>\n    </tr>\n    <tr>\n      <th>3339</th>\n      <td>England and Wales</td>\n      <td>NaN</td>\n      <td>2017</td>\n      <td>2017</td>\n      <td>Europe and Northern America</td>\n      <td>Northern Europe</td>\n      <td>189859.0</td>\n      <td>NaN</td>\n      <td>NaN</td>\n      <td>No</td>\n      <td>Official Statistics</td>\n      <td>Department of Health and Social Care</td>\n      <td>Complete</td>\n      <td>NaN</td>\n      <td>Yes</td>\n      <td>NaN</td>\n      <td>NaN</td>\n    </tr>\n  </tbody>\n</table>\n<p>3340 rows × 17 columns</p>\n</div>"
     },
     "execution_count": 4,
     "metadata": {},
     "output_type": "execute_result"
    }
   ],
   "source": [
    "df = pd.read_csv('../data/osf/Global Abortion Incidence Dataset.csv')\n",
    "df"
   ],
   "metadata": {
    "collapsed": false,
    "pycharm": {
     "name": "#%%\n"
    }
   }
  },
  {
   "cell_type": "code",
   "execution_count": 5,
   "outputs": [
    {
     "data": {
      "text/plain": "108"
     },
     "execution_count": 5,
     "metadata": {},
     "output_type": "execute_result"
    }
   ],
   "source": [
    "len(df['country'].unique())"
   ],
   "metadata": {
    "collapsed": false,
    "pycharm": {
     "name": "#%%\n"
    }
   }
  },
  {
   "cell_type": "code",
   "execution_count": 6,
   "outputs": [
    {
     "data": {
      "text/plain": "                country  iso  yearstart  yearend                       region  \\\n0               Albania  8.0       1990     1990  Europe and Northern America   \n1               Albania  8.0       1991     1991  Europe and Northern America   \n2               Albania  8.0       1992     1992  Europe and Northern America   \n3               Albania  8.0       1993     1993  Europe and Northern America   \n4               Albania  8.0       1994     1994  Europe and Northern America   \n...                 ...  ...        ...      ...                          ...   \n3335           Scotland  NaN       2015     2015  Europe and Northern America   \n3336           Scotland  NaN       2016     2016  Europe and Northern America   \n3337  England and Wales  NaN       2016     2016  Europe and Northern America   \n3338           Scotland  NaN       2017     2017  Europe and Northern America   \n3339  England and Wales  NaN       2017     2017  Europe and Northern America   \n\n            subregion  numberofabortions  abortionrate  perc_p_ending_in_a  \\\n0     Southern Europe            17400.0           NaN                 NaN   \n1     Southern Europe            20300.0           NaN                 NaN   \n2     Southern Europe            18700.0           NaN                 NaN   \n3     Southern Europe            25100.0           NaN                 NaN   \n4     Southern Europe            31622.0           NaN                 NaN   \n...               ...                ...           ...                 ...   \n3335  Northern Europe            12118.0           NaN                 NaN   \n3336  Northern Europe            12100.0           NaN                 NaN   \n3337  Northern Europe           185596.0           NaN                 NaN   \n3338  Northern Europe            12196.0           NaN                 NaN   \n3339  Northern Europe           189859.0           NaN                 NaN   \n\n     spontaneous             datatype                              datasource  \\\n0             No  Official Statistics                            Henshaw 2001   \n1             No  Official Statistics                            Henshaw 2001   \n2             No  Official Statistics                            Henshaw 2001   \n3             No  Official Statistics                            Henshaw 2001   \n4            Yes  Official Statistics                                    UNSD   \n...          ...                  ...                                     ...   \n3335          No  Official Statistics  Information Services Division Scotland   \n3336          No  Official Statistics  Information Services Division Scotland   \n3337          No  Official Statistics    Department of Health and Social Care   \n3338          No  Official Statistics  Information Services Division Scotland   \n3339          No  Official Statistics    Department of Health and Social Care   \n\n        complete         classification modelused marriedonly notes  \n0     Incomplete  Below survey of women       Yes         NaN   NaN  \n1     Incomplete  Below survey of women       Yes         NaN   NaN  \n2     Incomplete  Below survey of women       Yes         NaN   NaN  \n3     Incomplete  Below survey of women       Yes         NaN   NaN  \n4     Incomplete  Below survey of women       Yes         NaN   NaN  \n...          ...                    ...       ...         ...   ...  \n3335    Complete                    NaN       Yes         NaN   NaN  \n3336    Complete                    NaN       Yes         NaN   NaN  \n3337    Complete                    NaN       Yes         NaN   NaN  \n3338    Complete                    NaN       Yes         NaN   NaN  \n3339    Complete                    NaN       Yes         NaN   NaN  \n\n[3185 rows x 17 columns]",
      "text/html": "<div>\n<style scoped>\n    .dataframe tbody tr th:only-of-type {\n        vertical-align: middle;\n    }\n\n    .dataframe tbody tr th {\n        vertical-align: top;\n    }\n\n    .dataframe thead th {\n        text-align: right;\n    }\n</style>\n<table border=\"1\" class=\"dataframe\">\n  <thead>\n    <tr style=\"text-align: right;\">\n      <th></th>\n      <th>country</th>\n      <th>iso</th>\n      <th>yearstart</th>\n      <th>yearend</th>\n      <th>region</th>\n      <th>subregion</th>\n      <th>numberofabortions</th>\n      <th>abortionrate</th>\n      <th>perc_p_ending_in_a</th>\n      <th>spontaneous</th>\n      <th>datatype</th>\n      <th>datasource</th>\n      <th>complete</th>\n      <th>classification</th>\n      <th>modelused</th>\n      <th>marriedonly</th>\n      <th>notes</th>\n    </tr>\n  </thead>\n  <tbody>\n    <tr>\n      <th>0</th>\n      <td>Albania</td>\n      <td>8.0</td>\n      <td>1990</td>\n      <td>1990</td>\n      <td>Europe and Northern America</td>\n      <td>Southern Europe</td>\n      <td>17400.0</td>\n      <td>NaN</td>\n      <td>NaN</td>\n      <td>No</td>\n      <td>Official Statistics</td>\n      <td>Henshaw 2001</td>\n      <td>Incomplete</td>\n      <td>Below survey of women</td>\n      <td>Yes</td>\n      <td>NaN</td>\n      <td>NaN</td>\n    </tr>\n    <tr>\n      <th>1</th>\n      <td>Albania</td>\n      <td>8.0</td>\n      <td>1991</td>\n      <td>1991</td>\n      <td>Europe and Northern America</td>\n      <td>Southern Europe</td>\n      <td>20300.0</td>\n      <td>NaN</td>\n      <td>NaN</td>\n      <td>No</td>\n      <td>Official Statistics</td>\n      <td>Henshaw 2001</td>\n      <td>Incomplete</td>\n      <td>Below survey of women</td>\n      <td>Yes</td>\n      <td>NaN</td>\n      <td>NaN</td>\n    </tr>\n    <tr>\n      <th>2</th>\n      <td>Albania</td>\n      <td>8.0</td>\n      <td>1992</td>\n      <td>1992</td>\n      <td>Europe and Northern America</td>\n      <td>Southern Europe</td>\n      <td>18700.0</td>\n      <td>NaN</td>\n      <td>NaN</td>\n      <td>No</td>\n      <td>Official Statistics</td>\n      <td>Henshaw 2001</td>\n      <td>Incomplete</td>\n      <td>Below survey of women</td>\n      <td>Yes</td>\n      <td>NaN</td>\n      <td>NaN</td>\n    </tr>\n    <tr>\n      <th>3</th>\n      <td>Albania</td>\n      <td>8.0</td>\n      <td>1993</td>\n      <td>1993</td>\n      <td>Europe and Northern America</td>\n      <td>Southern Europe</td>\n      <td>25100.0</td>\n      <td>NaN</td>\n      <td>NaN</td>\n      <td>No</td>\n      <td>Official Statistics</td>\n      <td>Henshaw 2001</td>\n      <td>Incomplete</td>\n      <td>Below survey of women</td>\n      <td>Yes</td>\n      <td>NaN</td>\n      <td>NaN</td>\n    </tr>\n    <tr>\n      <th>4</th>\n      <td>Albania</td>\n      <td>8.0</td>\n      <td>1994</td>\n      <td>1994</td>\n      <td>Europe and Northern America</td>\n      <td>Southern Europe</td>\n      <td>31622.0</td>\n      <td>NaN</td>\n      <td>NaN</td>\n      <td>Yes</td>\n      <td>Official Statistics</td>\n      <td>UNSD</td>\n      <td>Incomplete</td>\n      <td>Below survey of women</td>\n      <td>Yes</td>\n      <td>NaN</td>\n      <td>NaN</td>\n    </tr>\n    <tr>\n      <th>...</th>\n      <td>...</td>\n      <td>...</td>\n      <td>...</td>\n      <td>...</td>\n      <td>...</td>\n      <td>...</td>\n      <td>...</td>\n      <td>...</td>\n      <td>...</td>\n      <td>...</td>\n      <td>...</td>\n      <td>...</td>\n      <td>...</td>\n      <td>...</td>\n      <td>...</td>\n      <td>...</td>\n      <td>...</td>\n    </tr>\n    <tr>\n      <th>3335</th>\n      <td>Scotland</td>\n      <td>NaN</td>\n      <td>2015</td>\n      <td>2015</td>\n      <td>Europe and Northern America</td>\n      <td>Northern Europe</td>\n      <td>12118.0</td>\n      <td>NaN</td>\n      <td>NaN</td>\n      <td>No</td>\n      <td>Official Statistics</td>\n      <td>Information Services Division Scotland</td>\n      <td>Complete</td>\n      <td>NaN</td>\n      <td>Yes</td>\n      <td>NaN</td>\n      <td>NaN</td>\n    </tr>\n    <tr>\n      <th>3336</th>\n      <td>Scotland</td>\n      <td>NaN</td>\n      <td>2016</td>\n      <td>2016</td>\n      <td>Europe and Northern America</td>\n      <td>Northern Europe</td>\n      <td>12100.0</td>\n      <td>NaN</td>\n      <td>NaN</td>\n      <td>No</td>\n      <td>Official Statistics</td>\n      <td>Information Services Division Scotland</td>\n      <td>Complete</td>\n      <td>NaN</td>\n      <td>Yes</td>\n      <td>NaN</td>\n      <td>NaN</td>\n    </tr>\n    <tr>\n      <th>3337</th>\n      <td>England and Wales</td>\n      <td>NaN</td>\n      <td>2016</td>\n      <td>2016</td>\n      <td>Europe and Northern America</td>\n      <td>Northern Europe</td>\n      <td>185596.0</td>\n      <td>NaN</td>\n      <td>NaN</td>\n      <td>No</td>\n      <td>Official Statistics</td>\n      <td>Department of Health and Social Care</td>\n      <td>Complete</td>\n      <td>NaN</td>\n      <td>Yes</td>\n      <td>NaN</td>\n      <td>NaN</td>\n    </tr>\n    <tr>\n      <th>3338</th>\n      <td>Scotland</td>\n      <td>NaN</td>\n      <td>2017</td>\n      <td>2017</td>\n      <td>Europe and Northern America</td>\n      <td>Northern Europe</td>\n      <td>12196.0</td>\n      <td>NaN</td>\n      <td>NaN</td>\n      <td>No</td>\n      <td>Official Statistics</td>\n      <td>Information Services Division Scotland</td>\n      <td>Complete</td>\n      <td>NaN</td>\n      <td>Yes</td>\n      <td>NaN</td>\n      <td>NaN</td>\n    </tr>\n    <tr>\n      <th>3339</th>\n      <td>England and Wales</td>\n      <td>NaN</td>\n      <td>2017</td>\n      <td>2017</td>\n      <td>Europe and Northern America</td>\n      <td>Northern Europe</td>\n      <td>189859.0</td>\n      <td>NaN</td>\n      <td>NaN</td>\n      <td>No</td>\n      <td>Official Statistics</td>\n      <td>Department of Health and Social Care</td>\n      <td>Complete</td>\n      <td>NaN</td>\n      <td>Yes</td>\n      <td>NaN</td>\n      <td>NaN</td>\n    </tr>\n  </tbody>\n</table>\n<p>3185 rows × 17 columns</p>\n</div>"
     },
     "execution_count": 6,
     "metadata": {},
     "output_type": "execute_result"
    }
   ],
   "source": [
    "official = df[df['datatype'] == 'Official Statistics']\n",
    "official"
   ],
   "metadata": {
    "collapsed": false,
    "pycharm": {
     "name": "#%%\n"
    }
   }
  },
  {
   "cell_type": "code",
   "execution_count": 8,
   "outputs": [
    {
     "data": {
      "text/plain": "                country  iso  yearstart  yearend                       region  \\\n0               Albania  8.0       1990     1990  Europe and Northern America   \n1               Albania  8.0       1991     1991  Europe and Northern America   \n2               Albania  8.0       1992     1992  Europe and Northern America   \n3               Albania  8.0       1993     1993  Europe and Northern America   \n4               Albania  8.0       1994     1994  Europe and Northern America   \n...                 ...  ...        ...      ...                          ...   \n3335           Scotland  NaN       2015     2015  Europe and Northern America   \n3336           Scotland  NaN       2016     2016  Europe and Northern America   \n3337  England and Wales  NaN       2016     2016  Europe and Northern America   \n3338           Scotland  NaN       2017     2017  Europe and Northern America   \n3339  England and Wales  NaN       2017     2017  Europe and Northern America   \n\n            subregion  numberofabortions  abortionrate  perc_p_ending_in_a  \\\n0     Southern Europe            17400.0           NaN                 NaN   \n1     Southern Europe            20300.0           NaN                 NaN   \n2     Southern Europe            18700.0           NaN                 NaN   \n3     Southern Europe            25100.0           NaN                 NaN   \n4     Southern Europe            31622.0           NaN                 NaN   \n...               ...                ...           ...                 ...   \n3335  Northern Europe            12118.0           NaN                 NaN   \n3336  Northern Europe            12100.0           NaN                 NaN   \n3337  Northern Europe           185596.0           NaN                 NaN   \n3338  Northern Europe            12196.0           NaN                 NaN   \n3339  Northern Europe           189859.0           NaN                 NaN   \n\n     spontaneous             datatype                              datasource  \\\n0             No  Official Statistics                            Henshaw 2001   \n1             No  Official Statistics                            Henshaw 2001   \n2             No  Official Statistics                            Henshaw 2001   \n3             No  Official Statistics                            Henshaw 2001   \n4            Yes  Official Statistics                                    UNSD   \n...          ...                  ...                                     ...   \n3335          No  Official Statistics  Information Services Division Scotland   \n3336          No  Official Statistics  Information Services Division Scotland   \n3337          No  Official Statistics    Department of Health and Social Care   \n3338          No  Official Statistics  Information Services Division Scotland   \n3339          No  Official Statistics    Department of Health and Social Care   \n\n        complete         classification modelused marriedonly notes  \n0     Incomplete  Below survey of women       Yes         NaN   NaN  \n1     Incomplete  Below survey of women       Yes         NaN   NaN  \n2     Incomplete  Below survey of women       Yes         NaN   NaN  \n3     Incomplete  Below survey of women       Yes         NaN   NaN  \n4     Incomplete  Below survey of women       Yes         NaN   NaN  \n...          ...                    ...       ...         ...   ...  \n3335    Complete                    NaN       Yes         NaN   NaN  \n3336    Complete                    NaN       Yes         NaN   NaN  \n3337    Complete                    NaN       Yes         NaN   NaN  \n3338    Complete                    NaN       Yes         NaN   NaN  \n3339    Complete                    NaN       Yes         NaN   NaN  \n\n[3166 rows x 17 columns]",
      "text/html": "<div>\n<style scoped>\n    .dataframe tbody tr th:only-of-type {\n        vertical-align: middle;\n    }\n\n    .dataframe tbody tr th {\n        vertical-align: top;\n    }\n\n    .dataframe thead th {\n        text-align: right;\n    }\n</style>\n<table border=\"1\" class=\"dataframe\">\n  <thead>\n    <tr style=\"text-align: right;\">\n      <th></th>\n      <th>country</th>\n      <th>iso</th>\n      <th>yearstart</th>\n      <th>yearend</th>\n      <th>region</th>\n      <th>subregion</th>\n      <th>numberofabortions</th>\n      <th>abortionrate</th>\n      <th>perc_p_ending_in_a</th>\n      <th>spontaneous</th>\n      <th>datatype</th>\n      <th>datasource</th>\n      <th>complete</th>\n      <th>classification</th>\n      <th>modelused</th>\n      <th>marriedonly</th>\n      <th>notes</th>\n    </tr>\n  </thead>\n  <tbody>\n    <tr>\n      <th>0</th>\n      <td>Albania</td>\n      <td>8.0</td>\n      <td>1990</td>\n      <td>1990</td>\n      <td>Europe and Northern America</td>\n      <td>Southern Europe</td>\n      <td>17400.0</td>\n      <td>NaN</td>\n      <td>NaN</td>\n      <td>No</td>\n      <td>Official Statistics</td>\n      <td>Henshaw 2001</td>\n      <td>Incomplete</td>\n      <td>Below survey of women</td>\n      <td>Yes</td>\n      <td>NaN</td>\n      <td>NaN</td>\n    </tr>\n    <tr>\n      <th>1</th>\n      <td>Albania</td>\n      <td>8.0</td>\n      <td>1991</td>\n      <td>1991</td>\n      <td>Europe and Northern America</td>\n      <td>Southern Europe</td>\n      <td>20300.0</td>\n      <td>NaN</td>\n      <td>NaN</td>\n      <td>No</td>\n      <td>Official Statistics</td>\n      <td>Henshaw 2001</td>\n      <td>Incomplete</td>\n      <td>Below survey of women</td>\n      <td>Yes</td>\n      <td>NaN</td>\n      <td>NaN</td>\n    </tr>\n    <tr>\n      <th>2</th>\n      <td>Albania</td>\n      <td>8.0</td>\n      <td>1992</td>\n      <td>1992</td>\n      <td>Europe and Northern America</td>\n      <td>Southern Europe</td>\n      <td>18700.0</td>\n      <td>NaN</td>\n      <td>NaN</td>\n      <td>No</td>\n      <td>Official Statistics</td>\n      <td>Henshaw 2001</td>\n      <td>Incomplete</td>\n      <td>Below survey of women</td>\n      <td>Yes</td>\n      <td>NaN</td>\n      <td>NaN</td>\n    </tr>\n    <tr>\n      <th>3</th>\n      <td>Albania</td>\n      <td>8.0</td>\n      <td>1993</td>\n      <td>1993</td>\n      <td>Europe and Northern America</td>\n      <td>Southern Europe</td>\n      <td>25100.0</td>\n      <td>NaN</td>\n      <td>NaN</td>\n      <td>No</td>\n      <td>Official Statistics</td>\n      <td>Henshaw 2001</td>\n      <td>Incomplete</td>\n      <td>Below survey of women</td>\n      <td>Yes</td>\n      <td>NaN</td>\n      <td>NaN</td>\n    </tr>\n    <tr>\n      <th>4</th>\n      <td>Albania</td>\n      <td>8.0</td>\n      <td>1994</td>\n      <td>1994</td>\n      <td>Europe and Northern America</td>\n      <td>Southern Europe</td>\n      <td>31622.0</td>\n      <td>NaN</td>\n      <td>NaN</td>\n      <td>Yes</td>\n      <td>Official Statistics</td>\n      <td>UNSD</td>\n      <td>Incomplete</td>\n      <td>Below survey of women</td>\n      <td>Yes</td>\n      <td>NaN</td>\n      <td>NaN</td>\n    </tr>\n    <tr>\n      <th>...</th>\n      <td>...</td>\n      <td>...</td>\n      <td>...</td>\n      <td>...</td>\n      <td>...</td>\n      <td>...</td>\n      <td>...</td>\n      <td>...</td>\n      <td>...</td>\n      <td>...</td>\n      <td>...</td>\n      <td>...</td>\n      <td>...</td>\n      <td>...</td>\n      <td>...</td>\n      <td>...</td>\n      <td>...</td>\n    </tr>\n    <tr>\n      <th>3335</th>\n      <td>Scotland</td>\n      <td>NaN</td>\n      <td>2015</td>\n      <td>2015</td>\n      <td>Europe and Northern America</td>\n      <td>Northern Europe</td>\n      <td>12118.0</td>\n      <td>NaN</td>\n      <td>NaN</td>\n      <td>No</td>\n      <td>Official Statistics</td>\n      <td>Information Services Division Scotland</td>\n      <td>Complete</td>\n      <td>NaN</td>\n      <td>Yes</td>\n      <td>NaN</td>\n      <td>NaN</td>\n    </tr>\n    <tr>\n      <th>3336</th>\n      <td>Scotland</td>\n      <td>NaN</td>\n      <td>2016</td>\n      <td>2016</td>\n      <td>Europe and Northern America</td>\n      <td>Northern Europe</td>\n      <td>12100.0</td>\n      <td>NaN</td>\n      <td>NaN</td>\n      <td>No</td>\n      <td>Official Statistics</td>\n      <td>Information Services Division Scotland</td>\n      <td>Complete</td>\n      <td>NaN</td>\n      <td>Yes</td>\n      <td>NaN</td>\n      <td>NaN</td>\n    </tr>\n    <tr>\n      <th>3337</th>\n      <td>England and Wales</td>\n      <td>NaN</td>\n      <td>2016</td>\n      <td>2016</td>\n      <td>Europe and Northern America</td>\n      <td>Northern Europe</td>\n      <td>185596.0</td>\n      <td>NaN</td>\n      <td>NaN</td>\n      <td>No</td>\n      <td>Official Statistics</td>\n      <td>Department of Health and Social Care</td>\n      <td>Complete</td>\n      <td>NaN</td>\n      <td>Yes</td>\n      <td>NaN</td>\n      <td>NaN</td>\n    </tr>\n    <tr>\n      <th>3338</th>\n      <td>Scotland</td>\n      <td>NaN</td>\n      <td>2017</td>\n      <td>2017</td>\n      <td>Europe and Northern America</td>\n      <td>Northern Europe</td>\n      <td>12196.0</td>\n      <td>NaN</td>\n      <td>NaN</td>\n      <td>No</td>\n      <td>Official Statistics</td>\n      <td>Information Services Division Scotland</td>\n      <td>Complete</td>\n      <td>NaN</td>\n      <td>Yes</td>\n      <td>NaN</td>\n      <td>NaN</td>\n    </tr>\n    <tr>\n      <th>3339</th>\n      <td>England and Wales</td>\n      <td>NaN</td>\n      <td>2017</td>\n      <td>2017</td>\n      <td>Europe and Northern America</td>\n      <td>Northern Europe</td>\n      <td>189859.0</td>\n      <td>NaN</td>\n      <td>NaN</td>\n      <td>No</td>\n      <td>Official Statistics</td>\n      <td>Department of Health and Social Care</td>\n      <td>Complete</td>\n      <td>NaN</td>\n      <td>Yes</td>\n      <td>NaN</td>\n      <td>NaN</td>\n    </tr>\n  </tbody>\n</table>\n<p>3166 rows × 17 columns</p>\n</div>"
     },
     "execution_count": 8,
     "metadata": {},
     "output_type": "execute_result"
    }
   ],
   "source": [
    "official = official.drop_duplicates()\n",
    "official"
   ],
   "metadata": {
    "collapsed": false,
    "pycharm": {
     "name": "#%%\n"
    }
   }
  },
  {
   "cell_type": "code",
   "execution_count": 11,
   "outputs": [
    {
     "data": {
      "text/plain": "'598,575,465.0 since 1989'"
     },
     "execution_count": 11,
     "metadata": {},
     "output_type": "execute_result"
    }
   ],
   "source": [
    "f\"{official['numberofabortions'].sum():,} since {official['yearstart'].min()}\""
   ],
   "metadata": {
    "collapsed": false,
    "pycharm": {
     "name": "#%%\n"
    }
   }
  },
  {
   "cell_type": "code",
   "execution_count": null,
   "outputs": [],
   "source": [],
   "metadata": {
    "collapsed": false,
    "pycharm": {
     "name": "#%%\n"
    }
   }
  }
 ],
 "metadata": {
  "kernelspec": {
   "display_name": "Python 3",
   "language": "python",
   "name": "python3"
  },
  "language_info": {
   "codemirror_mode": {
    "name": "ipython",
    "version": 2
   },
   "file_extension": ".py",
   "mimetype": "text/x-python",
   "name": "python",
   "nbconvert_exporter": "python",
   "pygments_lexer": "ipython2",
   "version": "2.7.6"
  }
 },
 "nbformat": 4,
 "nbformat_minor": 0
}